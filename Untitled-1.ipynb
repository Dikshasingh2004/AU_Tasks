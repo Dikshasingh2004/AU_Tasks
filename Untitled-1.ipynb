{
 "cells": [
  {
   "cell_type": "code",
   "execution_count": null,
   "metadata": {},
   "outputs": [],
   "source": [
    "def is_palindrome(s):\n",
    "    left,right=0,len(s)-1\n",
    "    while left<right:\n",
    "        if s[left]!=s[right]:\n",
    "            return False\n",
    "        left+=1\n",
    "        right-=1\n",
    "    return True\n",
    "\n",
    "print(\"is palindrome\",is_palindrome(input(\"Enter a String : \")))"
   ]
  },
  {
   "cell_type": "code",
   "execution_count": null,
   "metadata": {},
   "outputs": [
    {
     "name": "stdout",
     "output_type": "stream",
     "text": [
      "Pair : (1, 5)\n"
     ]
    }
   ],
   "source": [
    "def find_pair(arr,x):\n",
    "    left,right = 0,len(arr)-1\n",
    "    while left < right:\n",
    "        total = arr[left]+arr[right]\n",
    "        if total == x:\n",
    "            print(f\"Pair : {(arr[left],(arr[right]))}\")\n",
    "            return\n",
    "        left+=1 if total < x else 0\n",
    "        right-=1 if total > x else 0\n",
    "    print(\"No Pair\")\n",
    "arr = [1,2,3,4,5]\n",
    "x=6\n",
    "find_pair(arr,x)"
   ]
  },
  {
   "cell_type": "code",
   "execution_count": null,
   "metadata": {},
   "outputs": [
    {
     "name": "stdout",
     "output_type": "stream",
     "text": [
      "i is :  0 pos is :  0\n",
      "i is :  1 pos is :  0\n",
      "i is :  2 pos is :  1\n",
      "i is :  3 pos is :  1\n",
      "i is :  4 pos is :  2\n",
      "[1, 3, 12, 0, 0]\n"
     ]
    }
   ],
   "source": [
    "def move_zeros(nums):\n",
    "    pos = 0\n",
    "    for i in range(len(nums)):\n",
    "        print(\"i is : \",i,\"pos is : \",pos)\n",
    "        if nums[i]!=0:\n",
    "            nums[i],nums[pos]=nums[pos],nums[i]\n",
    "            pos+=1\n",
    "\n",
    "arr = [0,1,0,3,12]\n",
    "move_zeros(arr)\n",
    "print(arr)"
   ]
  },
  {
   "cell_type": "code",
   "execution_count": null,
   "metadata": {},
   "outputs": [],
   "source": [
    "def maxProfit(prices):\n",
    "    if not prices:\n",
    "        return 0\n",
    "    min_price = prices[0]\n",
    "    max_profit = 0\n",
    "\n",
    "    for price in prices:\n",
    "        min_price = min(min_price,price)\n",
    "        max_profit = max(max_profit,price-min_price)\n",
    "\n",
    "    return max_profit\n",
    "n = int(input()) \n",
    "prices = list(map(input().split()))\n",
    "print(maxProfit(prices))   "
   ]
  },
  {
   "cell_type": "code",
   "execution_count": null,
   "metadata": {},
   "outputs": [],
   "source": [
    "def tower(n,source,temp,target):\n",
    "    if n==1:\n",
    "        print(f\"\\t Move disk 1 from{source}to{target}\")\n",
    "        return\n",
    "    tower(n-1,source,target,temp)\n",
    "    print(f\"\\t Move disk {n} from{source}to{target}\")\n",
    "    tower(n-1,source,target,temp)\n",
    "n=3\n",
    "tower(n,\"Blue\",\"Green\",\"Red\")"
   ]
  },
  {
   "cell_type": "code",
   "execution_count": null,
   "metadata": {},
   "outputs": [
    {
     "name": "stdout",
     "output_type": "stream",
     "text": [
      "[0, 1, 2, 3, 5, 9]\n"
     ]
    }
   ],
   "source": [
    "def bubble_sort(arr):\n",
    "    for i in range(len(arr)-1):\n",
    "        for j in range(len(arr)-1-i):\n",
    "            if arr[j+1]< arr[j]:\n",
    "                arr[j+1],arr[j] = arr[j],arr[j+1]\n",
    "    print(arr)\n",
    "\n",
    "bubble_sort([5,9,2,1,0,3])    "
   ]
  },
  {
   "cell_type": "code",
   "execution_count": null,
   "metadata": {},
   "outputs": [
    {
     "data": {
      "text/plain": [
       "'not found item'"
      ]
     },
     "execution_count": 3,
     "metadata": {},
     "output_type": "execute_result"
    }
   ],
   "source": [
    "def binary_search(arr, item):\n",
    "    low = 0\n",
    "    high = len(arr) -1\n",
    "    \n",
    "    while low <= high:\n",
    "        mid = (low+high) //2\n",
    "        if arr[mid] == item:\n",
    "            return mid\n",
    "        elif arr[mid] < item:\n",
    "            low = mid + 1\n",
    "        else:\n",
    "            high = mid - 1 \n",
    "    return(\"not found item\")\n",
    "binary_search([1,2,3,4,5],9)\n"
   ]
  },
  {
   "cell_type": "code",
   "execution_count": 4,
   "metadata": {},
   "outputs": [
    {
     "data": {
      "text/plain": [
       "'not found'"
      ]
     },
     "execution_count": 4,
     "metadata": {},
     "output_type": "execute_result"
    }
   ],
   "source": [
    "def binary_search(arr,item):\n",
    "    low = 0\n",
    "    high = len(arr) - 1\n",
    "    while low<= high:\n",
    "        mid = (low+high)//2\n",
    "        if arr[mid] == item:\n",
    "            return mid\n",
    "        elif arr[mid] > item:\n",
    "            high = mid -1 \n",
    "        elif arr[mid] < item:\n",
    "            low = mid + 1\n",
    "    return \"not found\"\n",
    "binary_search([1,2,3,4,6,9],100)"
   ]
  },
  {
   "cell_type": "code",
   "execution_count": 8,
   "metadata": {},
   "outputs": [
    {
     "name": "stdout",
     "output_type": "stream",
     "text": [
      "[0, 1, 2, 3, 4, 5, 6, 9]\n"
     ]
    }
   ],
   "source": [
    "# selection sort\n",
    "def selection_sort(arr):\n",
    "    n = len(arr)\n",
    "    for i in range(n-1):\n",
    "        min_index = i\n",
    "        for j in range(i + 1, n):\n",
    "            if arr[j]< arr[min_index]:\n",
    "                min_index = j\n",
    "        arr[i], arr[min_index] = arr[min_index], arr[i] \n",
    "    print(arr)         \n",
    "selection_sort([1,5,6,3,2,0,9,4])"
   ]
  },
  {
   "cell_type": "code",
   "execution_count": 6,
   "metadata": {},
   "outputs": [],
   "source": [
    "f = open(\"sample.txt\", \"w\")\n"
   ]
  },
  {
   "cell_type": "code",
   "execution_count": 7,
   "metadata": {},
   "outputs": [],
   "source": [
    "l = [\"how are you\",\"\\nim good\",\"\\n you are fine\",\"\\neverything is fine\"]\n",
    "g = open(\"sample.txt\", \"w\")\n",
    "g.writelines(l)\n",
    "# g.write(\"saloni sister marriage\")\n",
    "# g.write(\"\\nmithai nahi ayi\")\n",
    "g.close()"
   ]
  },
  {
   "cell_type": "code",
   "execution_count": 8,
   "metadata": {},
   "outputs": [],
   "source": [
    "g = open(\"sample.txt\", \"a\")\n",
    "g.write(\"\\nmithai nahi ayi\")\n",
    "g.close()"
   ]
  },
  {
   "cell_type": "code",
   "execution_count": 9,
   "metadata": {},
   "outputs": [
    {
     "data": {
      "text/plain": [
       "['how are you', '\\nim good', '\\n you are fine', '\\neverything is fine']"
      ]
     },
     "execution_count": 9,
     "metadata": {},
     "output_type": "execute_result"
    }
   ],
   "source": [
    "l"
   ]
  },
  {
   "cell_type": "code",
   "execution_count": 10,
   "metadata": {},
   "outputs": [
    {
     "name": "stdout",
     "output_type": "stream",
     "text": [
      "how are you\n",
      "im good\n",
      " you are fine\n",
      "everything is fine\n",
      "mithai nahi ayi\n"
     ]
    }
   ],
   "source": [
    "f = open(\"sample.txt\")\n",
    "data = f.read()\n",
    "f.close()\n",
    "print(data)"
   ]
  },
  {
   "cell_type": "code",
   "execution_count": 11,
   "metadata": {},
   "outputs": [
    {
     "name": "stdout",
     "output_type": "stream",
     "text": [
      "['how are you\\n', 'im good\\n', ' you are fine\\n', 'everything is fine\\n', 'mithai nahi ayi']\n"
     ]
    },
    {
     "ename": "TypeError",
     "evalue": "TextIOWrapper.close() takes no arguments (1 given)",
     "output_type": "error",
     "traceback": [
      "\u001b[0;31m---------------------------------------------------------------------------\u001b[0m",
      "\u001b[0;31mTypeError\u001b[0m                                 Traceback (most recent call last)",
      "Cell \u001b[0;32mIn[11], line 3\u001b[0m\n\u001b[1;32m      1\u001b[0m f \u001b[38;5;241m=\u001b[39m \u001b[38;5;28mopen\u001b[39m(\u001b[38;5;124m\"\u001b[39m\u001b[38;5;124msample.txt\u001b[39m\u001b[38;5;124m\"\u001b[39m)\n\u001b[1;32m      2\u001b[0m data \u001b[38;5;241m=\u001b[39m f\u001b[38;5;241m.\u001b[39mreadlines()\n\u001b[0;32m----> 3\u001b[0m \u001b[43mf\u001b[49m\u001b[38;5;241;43m.\u001b[39;49m\u001b[43mclose\u001b[49m\u001b[43m(\u001b[49m\u001b[38;5;28;43mprint\u001b[39;49m\u001b[43m(\u001b[49m\u001b[43mdata\u001b[49m\u001b[43m)\u001b[49m\u001b[43m)\u001b[49m\n",
      "\u001b[0;31mTypeError\u001b[0m: TextIOWrapper.close() takes no arguments (1 given)"
     ]
    }
   ],
   "source": [
    "f = open(\"sample.txt\")\n",
    "data = f.readlines()\n",
    "f.close(print(data))"
   ]
  },
  {
   "cell_type": "code",
   "execution_count": 12,
   "metadata": {},
   "outputs": [
    {
     "name": "stdout",
     "output_type": "stream",
     "text": [
      "how a/re yo/"
     ]
    }
   ],
   "source": [
    "g = open(\"sample.txt\",\"r\")\n",
    "data = g.read(5)\n",
    "print(data, end=\"/\")\n",
    "data = g.read(5)\n",
    "print(data,end=\"/\")\n",
    "g.close()"
   ]
  },
  {
   "cell_type": "code",
   "execution_count": 13,
   "metadata": {},
   "outputs": [
    {
     "name": "stdout",
     "output_type": "stream",
     "text": [
      "how a/re yo/u\n",
      "im /good\n",
      "/ you /are f/ine\n",
      "e/veryt/hing /is fi/ne\n",
      "mi/thai /nahi /ayi\n"
     ]
    }
   ],
   "source": [
    "g = open(\"sample.txt\",\"r\")\n",
    "data = g.read(5)\n",
    "while len(data)>=5:\n",
    "    print(data,end=\"/\")\n",
    "    data = g.read(5)\n",
    "\n",
    "if data:\n",
    "    print(data)"
   ]
  },
  {
   "cell_type": "code",
   "execution_count": 14,
   "metadata": {},
   "outputs": [
    {
     "name": "stdout",
     "output_type": "stream",
     "text": [
      "how a/re yo/u\n",
      "im /good\n",
      "/ you /are f/ine\n",
      "e/veryt/hing /is fi/ne\n",
      "mi/thai /nahi /ayi/"
     ]
    }
   ],
   "source": [
    "g = open(\"sample.txt\",\"r\")\n",
    "while True:\n",
    "    data = g.read(5)\n",
    "    if not data:\n",
    "        break\n",
    "    else:\n",
    "        print(data,end=\"/\")\n",
    "\n"
   ]
  },
  {
   "cell_type": "code",
   "execution_count": 16,
   "metadata": {},
   "outputs": [],
   "source": [
    "d = {\"a\":1,\"b\":2,\"c\":3}"
   ]
  },
  {
   "cell_type": "code",
   "execution_count": 18,
   "metadata": {},
   "outputs": [],
   "source": [
    "with open(\"sample2.txt\",\"w\") as file:     #context manager\n",
    "    file.write(\"Hi Hello\") \n",
    "    file.write(\"testing\")\n"
   ]
  },
  {
   "cell_type": "code",
   "execution_count": 19,
   "metadata": {},
   "outputs": [],
   "source": [
    "with open(\"sample2.txt\",\"w\") as file:\n",
    "    file.write(str(d))"
   ]
  },
  {
   "cell_type": "code",
   "execution_count": 20,
   "metadata": {},
   "outputs": [],
   "source": [
    "with open(\"sample2.txt\",\"r\") as file:\n",
    "    piyush = file.read()"
   ]
  },
  {
   "cell_type": "code",
   "execution_count": 21,
   "metadata": {},
   "outputs": [
    {
     "name": "stdout",
     "output_type": "stream",
     "text": [
      "{'a': 1, 'b': 2, 'c': 3}\n"
     ]
    }
   ],
   "source": [
    "print(piyush)"
   ]
  },
  {
   "cell_type": "markdown",
   "metadata": {},
   "source": [
    "File handling is only use for text. So we introduce JSON for handling limitations of file handling\n",
    "# JSON\n",
    "It stores value in key value pair\n",
    "\n",
    "Dump - it is use to write a file\n",
    "\n",
    "Load - it is use to read a file"
   ]
  },
  {
   "cell_type": "code",
   "execution_count": 27,
   "metadata": {},
   "outputs": [],
   "source": [
    "import json"
   ]
  },
  {
   "cell_type": "code",
   "execution_count": 28,
   "metadata": {},
   "outputs": [],
   "source": [
    "with open(\"test.json\",\"w\") as file:\n",
    "    json.dump(d,file)"
   ]
  },
  {
   "cell_type": "code",
   "execution_count": 24,
   "metadata": {},
   "outputs": [],
   "source": [
    "with open(\"test.json\",\"r\") as file:\n",
    "    x = json.load(file)\n",
    "    "
   ]
  },
  {
   "cell_type": "code",
   "execution_count": 25,
   "metadata": {},
   "outputs": [
    {
     "name": "stdout",
     "output_type": "stream",
     "text": [
      "{'a': 1, 'b': 2, 'c': 3}\n"
     ]
    }
   ],
   "source": [
    "print(x)"
   ]
  },
  {
   "cell_type": "code",
   "execution_count": 26,
   "metadata": {},
   "outputs": [
    {
     "data": {
      "text/plain": [
       "1"
      ]
     },
     "execution_count": 26,
     "metadata": {},
     "output_type": "execute_result"
    }
   ],
   "source": [
    "x[\"a\"] "
   ]
  },
  {
   "cell_type": "code",
   "execution_count": 33,
   "metadata": {},
   "outputs": [],
   "source": [
    "with open(\"wallapaper.jpg\",\"rb\") as file:\n",
    "    x = file.read()\n",
    "with open(\"wallapaper2.jpg\",\"wb\") as file:\n",
    "    file.write(x)    "
   ]
  },
  {
   "cell_type": "markdown",
   "metadata": {},
   "source": [
    "# Pickling\n"
   ]
  },
  {
   "cell_type": "code",
   "execution_count": 36,
   "metadata": {},
   "outputs": [],
   "source": [
    "class Machinemodel:\n",
    "    def __init__(self,name):\n",
    "        self.name = name\n",
    "\n",
    "    def predict(self,x,y):\n",
    "        return x+y"
   ]
  },
  {
   "cell_type": "code",
   "execution_count": 37,
   "metadata": {},
   "outputs": [],
   "source": [
    "m = Machinemodel(\"linear\")"
   ]
  },
  {
   "cell_type": "code",
   "execution_count": 38,
   "metadata": {},
   "outputs": [
    {
     "data": {
      "text/plain": [
       "13"
      ]
     },
     "execution_count": 38,
     "metadata": {},
     "output_type": "execute_result"
    }
   ],
   "source": [
    "m.predict(6,7)"
   ]
  },
  {
   "cell_type": "code",
   "execution_count": 39,
   "metadata": {},
   "outputs": [],
   "source": [
    "import pickle"
   ]
  },
  {
   "cell_type": "code",
   "execution_count": 46,
   "metadata": {},
   "outputs": [],
   "source": [
    "with open(\"test2.pkl\",\"wb\") as file:\n",
    "    pickle.dump(m,file)"
   ]
  },
  {
   "cell_type": "code",
   "execution_count": 51,
   "metadata": {},
   "outputs": [],
   "source": [
    "with open(\"test2.pkl\",\"rb\") as file:\n",
    "    m1 = pickle.load(file)"
   ]
  },
  {
   "cell_type": "code",
   "execution_count": 52,
   "metadata": {},
   "outputs": [
    {
     "name": "stdout",
     "output_type": "stream",
     "text": [
      "<__main__.Machinemodel object at 0x111ddf750>\n"
     ]
    }
   ],
   "source": [
    "print(m1)"
   ]
  },
  {
   "cell_type": "code",
   "execution_count": 53,
   "metadata": {},
   "outputs": [
    {
     "data": {
      "text/plain": [
       "'linear'"
      ]
     },
     "execution_count": 53,
     "metadata": {},
     "output_type": "execute_result"
    }
   ],
   "source": [
    "m1.name"
   ]
  },
  {
   "cell_type": "code",
   "execution_count": 54,
   "metadata": {},
   "outputs": [
    {
     "data": {
      "text/plain": [
       "7"
      ]
     },
     "execution_count": 54,
     "metadata": {},
     "output_type": "execute_result"
    }
   ],
   "source": [
    "m1.predict(3,4)"
   ]
  },
  {
   "cell_type": "code",
   "execution_count": 55,
   "metadata": {},
   "outputs": [],
   "source": [
    "with open(\"diksha.txt\",\"w\") as file:\n",
    "    file.write(\"abcdefgh\")"
   ]
  },
  {
   "cell_type": "code",
   "execution_count": 64,
   "metadata": {},
   "outputs": [
    {
     "name": "stdout",
     "output_type": "stream",
     "text": [
      "2\n",
      "5\n"
     ]
    }
   ],
   "source": [
    "with open(\"diksha.txt\",\"r\") as file:\n",
    "    file.seek(2)\n",
    "    print(file.tell())\n",
    "    m = file.read(3)\n",
    "    print(file.tell())"
   ]
  },
  {
   "cell_type": "code",
   "execution_count": 65,
   "metadata": {},
   "outputs": [
    {
     "name": "stdout",
     "output_type": "stream",
     "text": [
      "cde\n"
     ]
    }
   ],
   "source": [
    "print(m)"
   ]
  },
  {
   "cell_type": "code",
   "execution_count": 68,
   "metadata": {},
   "outputs": [],
   "source": [
    "with open(\"diksha2.txt\",\"w\") as file:\n",
    "    file.write(\"hello\")\n",
    "    file.seek(1)\n",
    "    file.write(\"Xa\")"
   ]
  },
  {
   "cell_type": "markdown",
   "metadata": {},
   "source": [
    "## Lambda function()\n",
    "lambda P1,P2: out if , else"
   ]
  },
  {
   "cell_type": "code",
   "execution_count": 6,
   "metadata": {},
   "outputs": [],
   "source": [
    "m = lambda a,b: a + b if a>b else (a-b)"
   ]
  },
  {
   "cell_type": "code",
   "execution_count": 8,
   "metadata": {},
   "outputs": [
    {
     "data": {
      "text/plain": [
       "-1"
      ]
     },
     "execution_count": 8,
     "metadata": {},
     "output_type": "execute_result"
    }
   ],
   "source": [
    "m(3,4)"
   ]
  },
  {
   "cell_type": "code",
   "execution_count": 12,
   "metadata": {},
   "outputs": [],
   "source": [
    "m = lambda a,b,c : a//b if a>b else (a*b*c)"
   ]
  },
  {
   "cell_type": "code",
   "execution_count": 14,
   "metadata": {},
   "outputs": [
    {
     "data": {
      "text/plain": [
       "6"
      ]
     },
     "execution_count": 14,
     "metadata": {},
     "output_type": "execute_result"
    }
   ],
   "source": [
    "m(1,2,3)"
   ]
  },
  {
   "cell_type": "code",
   "execution_count": 15,
   "metadata": {},
   "outputs": [],
   "source": [
    "def square(x):\n",
    "    return x*x\n"
   ]
  },
  {
   "cell_type": "code",
   "execution_count": 20,
   "metadata": {},
   "outputs": [],
   "source": [
    "list45 = [2,3,4,5,6,7,8]\n",
    "y = map(square,list45)"
   ]
  },
  {
   "cell_type": "code",
   "execution_count": 21,
   "metadata": {},
   "outputs": [
    {
     "data": {
      "text/plain": [
       "[4, 9, 16, 25, 36, 49, 64]"
      ]
     },
     "execution_count": 21,
     "metadata": {},
     "output_type": "execute_result"
    }
   ],
   "source": [
    "[*y]"
   ]
  },
  {
   "cell_type": "code",
   "execution_count": 22,
   "metadata": {},
   "outputs": [],
   "source": [
    "n = map(lambda x:x*x,list45)"
   ]
  },
  {
   "cell_type": "code",
   "execution_count": 23,
   "metadata": {},
   "outputs": [
    {
     "data": {
      "text/plain": [
       "[4, 9, 16, 25, 36, 49, 64]"
      ]
     },
     "execution_count": 23,
     "metadata": {},
     "output_type": "execute_result"
    }
   ],
   "source": [
    "[*n]"
   ]
  },
  {
   "cell_type": "code",
   "execution_count": 33,
   "metadata": {},
   "outputs": [],
   "source": [
    "n = map(lambda  x: \"even\" if x%2 == 0  else \"odd\", list45)"
   ]
  },
  {
   "cell_type": "code",
   "execution_count": 35,
   "metadata": {},
   "outputs": [
    {
     "data": {
      "text/plain": [
       "['even', 'odd', 'even', 'odd', 'even', 'odd', 'even']"
      ]
     },
     "execution_count": 35,
     "metadata": {},
     "output_type": "execute_result"
    }
   ],
   "source": [
    "[*n]"
   ]
  },
  {
   "cell_type": "code",
   "execution_count": 41,
   "metadata": {},
   "outputs": [],
   "source": [
    "list1 = [\"hello\",\"hi\",\"how\"]\n",
    "n1 = map(lambda x :len(x),list1)"
   ]
  },
  {
   "cell_type": "code",
   "execution_count": 42,
   "metadata": {},
   "outputs": [
    {
     "data": {
      "text/plain": [
       "[5, 2, 3]"
      ]
     },
     "execution_count": 42,
     "metadata": {},
     "output_type": "execute_result"
    }
   ],
   "source": [
    "[*n1]"
   ]
  },
  {
   "cell_type": "markdown",
   "metadata": {},
   "source": [
    "## Reduce()\n"
   ]
  },
  {
   "cell_type": "code",
   "execution_count": 44,
   "metadata": {},
   "outputs": [],
   "source": [
    "from functools import reduce"
   ]
  },
  {
   "cell_type": "code",
   "execution_count": 47,
   "metadata": {},
   "outputs": [],
   "source": [
    "k = reduce(lambda a,b: a+b, list45)"
   ]
  },
  {
   "cell_type": "code",
   "execution_count": 105,
   "metadata": {},
   "outputs": [
    {
     "name": "stdout",
     "output_type": "stream",
     "text": [
      "35\n"
     ]
    }
   ],
   "source": [
    "print(k)"
   ]
  },
  {
   "cell_type": "code",
   "execution_count": 58,
   "metadata": {},
   "outputs": [],
   "source": [
    "k1 = [\"hello\",2,\"hi\",\"how\",\"diksha\"]\n",
    "k2 = reduce(lambda a,b:2 if isinstance (a,str) else a+1,k1)"
   ]
  },
  {
   "cell_type": "code",
   "execution_count": 60,
   "metadata": {},
   "outputs": [
    {
     "data": {
      "text/plain": [
       "5"
      ]
     },
     "execution_count": 60,
     "metadata": {},
     "output_type": "execute_result"
    }
   ],
   "source": [
    "k2"
   ]
  },
  {
   "cell_type": "code",
   "execution_count": 62,
   "metadata": {},
   "outputs": [],
   "source": [
    "def test(x):\n",
    "    if x%2 == 0:\n",
    "        return True\n",
    "    else:\n",
    "        return False"
   ]
  },
  {
   "cell_type": "code",
   "execution_count": 63,
   "metadata": {},
   "outputs": [
    {
     "data": {
      "text/plain": [
       "[2, 4, 6, 8]"
      ]
     },
     "execution_count": 63,
     "metadata": {},
     "output_type": "execute_result"
    }
   ],
   "source": [
    "[*filter(test,list45)]"
   ]
  },
  {
   "cell_type": "code",
   "execution_count": 64,
   "metadata": {},
   "outputs": [
    {
     "data": {
      "text/plain": [
       "[2, 4, 6, 8]"
      ]
     },
     "execution_count": 64,
     "metadata": {},
     "output_type": "execute_result"
    }
   ],
   "source": [
    "[*filter(lambda x : True if x%2 == 0 else False,list45)]"
   ]
  },
  {
   "cell_type": "code",
   "execution_count": 67,
   "metadata": {},
   "outputs": [
    {
     "ename": "UnsupportedOperation",
     "evalue": "not readable",
     "output_type": "error",
     "traceback": [
      "\u001b[0;31m---------------------------------------------------------------------------\u001b[0m",
      "\u001b[0;31mUnsupportedOperation\u001b[0m                      Traceback (most recent call last)",
      "Cell \u001b[0;32mIn[67], line 3\u001b[0m\n\u001b[1;32m      1\u001b[0m \u001b[38;5;28;01mwith\u001b[39;00m \u001b[38;5;28mopen\u001b[39m(\u001b[38;5;124m\"\u001b[39m\u001b[38;5;124mexample_log.txt\u001b[39m\u001b[38;5;124m\"\u001b[39m,\u001b[38;5;124m\"\u001b[39m\u001b[38;5;124mw\u001b[39m\u001b[38;5;124m\"\u001b[39m) \u001b[38;5;28;01mas\u001b[39;00m file:\n\u001b[1;32m      2\u001b[0m     \u001b[38;5;28;01mfor\u001b[39;00m i \u001b[38;5;129;01min\u001b[39;00m \u001b[38;5;28mrange\u001b[39m(\u001b[38;5;28mlen\u001b[39m(\u001b[38;5;124m\"\u001b[39m\u001b[38;5;124mexapmle_log.txt\u001b[39m\u001b[38;5;124m\"\u001b[39m)):\n\u001b[0;32m----> 3\u001b[0m         x \u001b[38;5;241m=\u001b[39m \u001b[43mfile\u001b[49m\u001b[38;5;241;43m.\u001b[39;49m\u001b[43mread\u001b[49m\u001b[43m(\u001b[49m\u001b[38;5;241;43m5\u001b[39;49m\u001b[43m)\u001b[49m\n\u001b[1;32m      4\u001b[0m         \u001b[38;5;28mprint\u001b[39m(x,end\u001b[38;5;241m=\u001b[39m\u001b[38;5;124m\"\u001b[39m\u001b[38;5;124m/\u001b[39m\u001b[38;5;124m\"\u001b[39m)\n",
      "\u001b[0;31mUnsupportedOperation\u001b[0m: not readable"
     ]
    }
   ],
   "source": [
    "with open(\"example_log.txt\",\"w\") as file:\n",
    "    for i in range(len(\"exapmle_log.txt\")):\n",
    "        x = file.read(5)\n",
    "        print(x,end=\"/\")\n"
   ]
  },
  {
   "cell_type": "markdown",
   "metadata": {},
   "source": []
  },
  {
   "cell_type": "code",
   "execution_count": 92,
   "metadata": {},
   "outputs": [],
   "source": [
    "g = open(\"example_log.txt\",\"r\")\n",
    "data = g.read(5)"
   ]
  },
  {
   "cell_type": "code",
   "execution_count": 4,
   "metadata": {},
   "outputs": [
    {
     "data": {
      "text/plain": [
       "[]"
      ]
     },
     "execution_count": 4,
     "metadata": {},
     "output_type": "execute_result"
    }
   ],
   "source": [
    "l=[]\n",
    "with open(\"example_log.txt\",\"r\") as file:\n",
    "   while True:\n",
    "      data = file.read(14)\n",
    "      if not data:\n",
    "         break\n",
    "      l.append(data)\n",
    "l\n",
    "\n"
   ]
  },
  {
   "cell_type": "code",
   "execution_count": 3,
   "metadata": {},
   "outputs": [],
   "source": [
    "with open(\"example_log.txt\",\"r\") as file:\n",
    "    for line in file:\n",
    "        print(line.strip(),end = \"/\")"
   ]
  },
  {
   "cell_type": "code",
   "execution_count": 4,
   "metadata": {},
   "outputs": [
    {
     "name": "stdout",
     "output_type": "stream",
     "text": [
      "\n"
     ]
    }
   ],
   "source": [
    "print(data)"
   ]
  },
  {
   "cell_type": "markdown",
   "metadata": {},
   "source": [
    "# Object Oriented Programming\n",
    "class - rules\n",
    "\n",
    "object - the ones  who follow rules\n",
    "\n",
    "self - object\n",
    "\n",
    "Constructor - initialize all  values and automatically defines object"
   ]
  },
  {
   "cell_type": "code",
   "execution_count": 10,
   "metadata": {},
   "outputs": [
    {
     "name": "stdout",
     "output_type": "stream",
     "text": [
      "[3, 4, 5]\n"
     ]
    },
    {
     "data": {
      "text/plain": [
       "list"
      ]
     },
     "execution_count": 10,
     "metadata": {},
     "output_type": "execute_result"
    }
   ],
   "source": [
    "l = list([3,4,5])\n",
    "l2 = [3,4,5,6,7]\n",
    "print(l)\n",
    "type(l)\n",
    "type(l2)"
   ]
  },
  {
   "cell_type": "code",
   "execution_count": 21,
   "metadata": {},
   "outputs": [],
   "source": [
    "class Poornima:\n",
    "    def work_1(self):\n",
    "        print(id(self))\n",
    "        print(\"ghumna\")\n",
    "    def work_2(self,Timezone):\n",
    "        if Timezone == \"Morning\":\n",
    "            print(\"in college\")\n",
    "        else:\n",
    "            print(\"Roaming\") \n",
    "             \n",
    "        "
   ]
  },
  {
   "cell_type": "code",
   "execution_count": 22,
   "metadata": {},
   "outputs": [],
   "source": [
    "piyush = Poornima()"
   ]
  },
  {
   "cell_type": "code",
   "execution_count": null,
   "metadata": {},
   "outputs": [
    {
     "ename": "TypeError",
     "evalue": "Poornima.work_1() takes 1 positional argument but 2 were given",
     "output_type": "error",
     "traceback": [
      "\u001b[0;31m---------------------------------------------------------------------------\u001b[0m",
      "\u001b[0;31mTypeError\u001b[0m                                 Traceback (most recent call last)",
      "Cell \u001b[0;32mIn[24], line 1\u001b[0m\n\u001b[0;32m----> 1\u001b[0m \u001b[43mpiyush\u001b[49m\u001b[38;5;241;43m.\u001b[39;49m\u001b[43mwork_1\u001b[49m\u001b[43m(\u001b[49m\u001b[38;5;124;43m\"\u001b[39;49m\u001b[38;5;124;43mMorning\u001b[39;49m\u001b[38;5;124;43m\"\u001b[39;49m\u001b[43m)\u001b[49m\n\u001b[1;32m      2\u001b[0m \u001b[38;5;28mprint\u001b[39m(piyush)\n",
      "\u001b[0;31mTypeError\u001b[0m: Poornima.work_1() takes 1 positional argument but 2 were given"
     ]
    }
   ],
   "source": [
    "piyush.work_1()\n",
    "print(piyush)"
   ]
  },
  {
   "cell_type": "code",
   "execution_count": 26,
   "metadata": {},
   "outputs": [],
   "source": [
    "class Poornima:\n",
    "    def __init__(self,roll_no):               #constructor\n",
    "        self.roll_no = roll_no \n",
    "        \n",
    "    def work_1(self,name,roll_no):\n",
    "        self.name = name\n",
    "        self.roll_no = roll_no\n",
    "        print(\"ghumna\")"
   ]
  },
  {
   "cell_type": "code",
   "execution_count": 52,
   "metadata": {},
   "outputs": [],
   "source": [
    "class animal:\n",
    "    def __init__(self):\n",
    "        print(\"animals\")\n",
    "    def ele_dog(self,elephant,dog):\n",
    "        self.elephant = elephant\n",
    "        self.dog = dog\n",
    "        if elephant == \"giant\":\n",
    "            print(\"elephant is very huge\")\n",
    "        else:\n",
    "            print(\"dog is barking\")\n"
   ]
  },
  {
   "cell_type": "code",
   "execution_count": 49,
   "metadata": {},
   "outputs": [
    {
     "name": "stdout",
     "output_type": "stream",
     "text": [
      "animals\n"
     ]
    }
   ],
   "source": [
    "diksha = animal()"
   ]
  },
  {
   "cell_type": "code",
   "execution_count": 53,
   "metadata": {},
   "outputs": [
    {
     "name": "stdout",
     "output_type": "stream",
     "text": [
      "dog is barking\n"
     ]
    }
   ],
   "source": [
    "diksha.ele_dog(\"monkey\",\"ele\")"
   ]
  },
  {
   "cell_type": "code",
   "execution_count": 3,
   "metadata": {},
   "outputs": [],
   "source": [
    "class Bank:\n",
    "    def __init__(self):\n",
    "        self.pin = 0\n",
    "        self.bal = 0\n",
    "        self.Menu =()\n",
    "\n",
    "    def Menu(self):\n",
    "        user_input = input('''\n",
    "        1.Press 1 for Generate Pin:\n",
    "        2.Press 2 for Set balance:\n",
    "        3.Press 3 for withdrawl: ''')\n",
    "        if user_input == \"1\":\n",
    "            new_pin = input(\"Enter your pin:\")\n",
    "            self.set_pin(new_pin)\n",
    "        if user_input == \"2\":\n",
    "            self.set_balance()\n",
    "        if user_input == \"3\":\n",
    "            self.withdrawl()\n",
    "\n",
    "    def set_pin(self,new_pin):\n",
    "        self.pin = new_pin\n",
    "        self.Menu()\n",
    "\n",
    "    def set_balance(self):\n",
    "        new_balance = int(input(\"Enter your Amount\"))\n",
    "        self.bal = new_balance\n",
    "        self.Menu()\n",
    "\n",
    "    def withdrawl(self):\n",
    "        pin = input(\"Enter Your new pin:\")\n",
    "        if self.pin == pin:\n",
    "            amount = float(input(\"enter amount\"))\n",
    "            if amount>self.bal:\n",
    "                print(\"insufficient balance\")\n",
    "                exit()\n",
    "            else:\n",
    "                self.bal = self.bal - amount\n",
    "                print(\"transaction successful\")\n",
    "                print(\"current bal\",self.bal)\n",
    "        else:\n",
    "            print(\"Incorrect Pin\")\n",
    "\n",
    "\n"
   ]
  },
  {
   "cell_type": "code",
   "execution_count": 5,
   "metadata": {},
   "outputs": [],
   "source": [
    "b1 = Bank()"
   ]
  },
  {
   "cell_type": "code",
   "execution_count": 8,
   "metadata": {},
   "outputs": [
    {
     "ename": "TypeError",
     "evalue": "'tuple' object is not callable",
     "output_type": "error",
     "traceback": [
      "\u001b[0;31m---------------------------------------------------------------------------\u001b[0m",
      "\u001b[0;31mTypeError\u001b[0m                                 Traceback (most recent call last)",
      "Cell \u001b[0;32mIn[8], line 1\u001b[0m\n\u001b[0;32m----> 1\u001b[0m \u001b[43mb1\u001b[49m\u001b[38;5;241;43m.\u001b[39;49m\u001b[43mMenu\u001b[49m\u001b[43m(\u001b[49m\u001b[43m)\u001b[49m\n",
      "\u001b[0;31mTypeError\u001b[0m: 'tuple' object is not callable"
     ]
    }
   ],
   "source": [
    "b1.Menu()"
   ]
  },
  {
   "cell_type": "code",
   "execution_count": null,
   "metadata": {},
   "outputs": [
    {
     "data": {
      "text/plain": [
       "2345"
      ]
     },
     "execution_count": 66,
     "metadata": {},
     "output_type": "execute_result"
    }
   ],
   "source": []
  },
  {
   "cell_type": "code",
   "execution_count": null,
   "metadata": {},
   "outputs": [],
   "source": []
  }
 ],
 "metadata": {
  "kernelspec": {
   "display_name": "Python 3",
   "language": "python",
   "name": "python3"
  },
  "language_info": {
   "codemirror_mode": {
    "name": "ipython",
    "version": 3
   },
   "file_extension": ".py",
   "mimetype": "text/x-python",
   "name": "python",
   "nbconvert_exporter": "python",
   "pygments_lexer": "ipython3",
   "version": "3.13.1"
  }
 },
 "nbformat": 4,
 "nbformat_minor": 2
}
